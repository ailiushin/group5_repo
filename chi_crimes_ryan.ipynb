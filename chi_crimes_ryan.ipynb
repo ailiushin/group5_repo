{
 "cells": [
  {
   "cell_type": "code",
   "execution_count": null,
   "id": "5033443c",
   "metadata": {},
   "outputs": [],
   "source": [
    "# Dependencies and Setup\n",
    "import matplotlib.pyplot as plt\n",
    "import pandas as pd\n",
    "import numpy as np\n",
    "import requests\n",
    "import time\n",
    "from scipy.stats import linregress\n",
    "import json\n",
    "from datetime import datetime\n",
    "\n",
    "# importing csv files.\n",
    "crimes_19 = pd.read_csv('input_data/Chicago_Crimes_2019.csv')\n",
    "crimes_20 = pd.read_csv('input_data/Chicago_Crimes_2020.csv')\n",
    "crimes_21 = pd.read_csv('input_data/Chicago_Crimes_2021.csv')\n",
    "\n",
    "# merging crimes data for the last 3 years into a signle dataframe\n",
    "crimes_data = pd.merge((pd.merge(crimes_19,crimes_20, how=\"outer\")),crimes_21,how=\"outer\")\n",
    "\n",
    "print(len(crimes_data))"
   ]
  },
  {
   "cell_type": "code",
   "execution_count": null,
   "id": "c42ea233",
   "metadata": {},
   "outputs": [],
   "source": [
    "# converting Date column in dataframe to date format and adding columns for month, year, day, time\n",
    "crimes_data[\"Date\"] = pd.to_datetime(crimes_data['Date'])\n",
    "crimes_data[\"Day\"] = crimes_data['Date'].dt.day_name()\n",
    "crimes_data[\"Month Day\"] =crimes_data['Date'].dt.day\n",
    "crimes_data[\"Month\"] = crimes_data['Date'].dt.month_name()\n",
    "crimes_data[\"Year\"] = crimes_data['Date'].dt.year\n",
    "crimes_data[\"Time\"] =crimes_data['Date'].dt.time\n",
    "crimes_data[\"AM_PM\"] = pd.to_datetime(crimes_data['Date']).dt.strftime(\"%p\")\n",
    "crimes_data.dropna(how='any', inplace=True)\n",
    "crimes_data"
   ]
  },
  {
   "cell_type": "code",
   "execution_count": null,
   "id": "245e666a",
   "metadata": {},
   "outputs": [],
   "source": [
    "crime_type_overall = crimes_data.groupby([\"Primary Type\"])\n",
    "overall_crime_type_df = pd.DataFrame(crimes_data[\"Primary Type\"].value_counts())\n",
    "overall_crime_type_df"
   ]
  },
  {
   "cell_type": "code",
   "execution_count": null,
   "id": "961a889c",
   "metadata": {},
   "outputs": [],
   "source": [
    "overall_crime_type_df = overall_crime_type_df.rename(\n",
    "    columns={\"Primary Type\": \"Crime Count\"})\n",
    "overall_crime_type_df"
   ]
  },
  {
   "cell_type": "code",
   "execution_count": null,
   "id": "d8d4126f",
   "metadata": {},
   "outputs": [],
   "source": [
    "top_ten_crimes = [\"Theft\",\"Battery\",\"Criminal Damage\",\"Assault\",\"Deceptive Practice\",\"Other Offense\",\"Motor Vehicale Theft\",\"Narcotics\",\"Burglary\",\"Robbery\"]\n",
    "crime_count = [141158,131204,76153,59061,48198,42760,29354,26354,24951,23740]\n",
    "x_axis = np.arange(len(crime_count))"
   ]
  },
  {
   "cell_type": "code",
   "execution_count": null,
   "id": "d3c9d6a0",
   "metadata": {},
   "outputs": [],
   "source": [
    "plt.bar(x_axis, crime_count, color=\"b\", align=\"center\")\n",
    "tick_locations = [value for value in x_axis]\n",
    "plt.xticks(tick_locations, top_ten_crimes, rotation=\"vertical\")\n",
    "plt.title(\"Top Ten Most Common Crimes over the Past Three Years\")\n",
    "plt.xlabel(\"Crime Categories\")\n",
    "plt.ylabel(\"Number of Criminal Acts Committed\")\n",
    "\n",
    "\n",
    "\n",
    "plt.show()\n",
    "plt.tight_layout()"
   ]
  },
  {
   "cell_type": "code",
   "execution_count": null,
   "id": "877b12f1",
   "metadata": {},
   "outputs": [],
   "source": [
    "least_ten_crimes = [\"Concealed Carry License Violation\",\"Intimidation\",\"Kidnapping\",\"Gambling\",\"Obscenity\",\"Human Trafficking\",\"Public Indecency\",\"Other Narcotic Violation\",\"Non-Criminal\",\"Ritualism\"]\n",
    "least_crime_count = [534,441,377,180,156,30,24,14,8,1]\n",
    "x_axis = np.arange(len(least_crime_count))\n"
   ]
  },
  {
   "cell_type": "code",
   "execution_count": null,
   "id": "a3586a2c",
   "metadata": {},
   "outputs": [],
   "source": [
    "plt.bar(x_axis, least_crime_count, color=\"r\", align=\"center\")\n",
    "tick_locations = [value for value in x_axis]\n",
    "plt.xticks(tick_locations, least_ten_crimes, rotation=\"vertical\")\n",
    "plt.title(\"Least Common Crimes over the Past Three Years\")\n",
    "plt.xlabel(\"Crime Categories\")\n",
    "plt.ylabel(\"Number of Criminal Acts Committed\")\n",
    "\n",
    "\n",
    "\n",
    "plt.show()\n",
    "plt.tight_layout()"
   ]
  },
  {
   "cell_type": "code",
   "execution_count": null,
   "id": "d1d5ed68",
   "metadata": {},
   "outputs": [],
   "source": [
    "number_crimes = crimes_data.groupby(\"Year\")\n",
    "yearly_crimes_df = pd.DataFrame(number_crimes[\"ID\"].nunique())\n",
    "yearly_crimes_df"
   ]
  },
  {
   "cell_type": "code",
   "execution_count": null,
   "id": "651ae0a0",
   "metadata": {},
   "outputs": [],
   "source": [
    "yearly_crimes_df = yearly_crimes_df.rename(\n",
    "    columns={\"ID\": \"Crime Count\"})\n",
    "yearly_crimes_df"
   ]
  },
  {
   "cell_type": "code",
   "execution_count": null,
   "id": "72fe676e",
   "metadata": {},
   "outputs": [],
   "source": [
    "x = [2019,2020,2021]\n",
    "y = [258143,207427,202350]\n",
    "labels = ['2019', '2020', '2021']\n",
    " \n",
    "# Plotting x-axis and y-axis\n",
    "plt.plot(x, y)\n",
    " \n",
    "# naming of x-axis and y-axis\n",
    "plt.xlabel(\"Year\")\n",
    "plt.ylabel(\"Number of Criminal Acts Committed\")\n",
    " \n",
    "# naming the title of the plot\n",
    "plt.title(\"Yearly Reported Crime Totals\")\n",
    " \n",
    "# setting x-axis values\n",
    "plt.xticks(x, labels)\n",
    " \n",
    "plt.show()\n"
   ]
  },
  {
   "cell_type": "code",
   "execution_count": null,
   "id": "7981c0bc",
   "metadata": {},
   "outputs": [],
   "source": [
    "crime_type = crimes_data.groupby(\"Year\")\n",
    "\n",
    "crime_type_df = pd.DataFrame(crime_type[\"Primary Type\"].value_counts())\n",
    "\n",
    "crime_type_df\n",
    "\n"
   ]
  },
  {
   "cell_type": "code",
   "execution_count": null,
   "id": "30684761",
   "metadata": {},
   "outputs": [],
   "source": [
    "crime_type_df = crime_type_df.rename(\n",
    "    columns={\"Primary Type\": \"Crime Count\"})\n",
    "crime_type_df\n"
   ]
  },
  {
   "cell_type": "code",
   "execution_count": null,
   "id": "7ce82381",
   "metadata": {},
   "outputs": [],
   "source": [
    "crime_type_df[\"Crime Count\"].sum()"
   ]
  },
  {
   "cell_type": "code",
   "execution_count": null,
   "id": "ff01cfb2",
   "metadata": {},
   "outputs": [],
   "source": [
    "most_common_crimes = crime_type_df.sort_values([\"Crime Count\"],\n",
    "                                           ascending=False)\n",
    "most_common_crimes.head(30)"
   ]
  },
  {
   "cell_type": "code",
   "execution_count": null,
   "id": "8d15310b",
   "metadata": {},
   "outputs": [],
   "source": []
  }
 ],
 "metadata": {
  "kernelspec": {
   "display_name": "Python [conda env:.conda-PythonData38] *",
   "language": "python",
   "name": "conda-env-.conda-PythonData38-py"
  },
  "language_info": {
   "codemirror_mode": {
    "name": "ipython",
    "version": 3
   },
   "file_extension": ".py",
   "mimetype": "text/x-python",
   "name": "python",
   "nbconvert_exporter": "python",
   "pygments_lexer": "ipython3",
   "version": "3.8.12"
  }
 },
 "nbformat": 4,
 "nbformat_minor": 5
}
