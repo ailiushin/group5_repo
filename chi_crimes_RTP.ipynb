{
 "cells": [
  {
   "cell_type": "code",
   "execution_count": 1,
   "id": "5033443c",
   "metadata": {},
   "outputs": [
    {
     "name": "stdout",
     "output_type": "stream",
     "text": [
      "679438\n"
     ]
    }
   ],
   "source": [
    "# Dependencies and Setup\n",
    "import matplotlib.pyplot as plt\n",
    "import pandas as pd\n",
    "import numpy as np\n",
    "import requests\n",
    "import time\n",
    "from scipy.stats import linregress\n",
    "import json\n",
    "from datetime import datetime\n",
    "import seaborn as sns\n",
    "\n",
    "# importing csv files.\n",
    "crimes_19 = pd.read_csv('input_data/Chicago_Crimes_2019.csv')\n",
    "crimes_20 = pd.read_csv('input_data/Chicago_Crimes_2020.csv')\n",
    "crimes_21 = pd.read_csv('input_data/Chicago_Crimes_2021.csv')\n",
    "\n",
    "# merging crimes data for the last 3 years into a signle dataframe\n",
    "crimes_data = pd.merge((pd.merge(crimes_19,crimes_20, how=\"outer\")),crimes_21,how=\"outer\")\n",
    "\n",
    "print(len(crimes_data))"
   ]
  },
  {
   "cell_type": "code",
   "execution_count": null,
   "id": "c42ea233",
   "metadata": {},
   "outputs": [],
   "source": [
    "# converting Date column in dataframe to date format and adding columns for month, year, day, time\n",
    "crimes_data[\"Date\"] = pd.to_datetime(crimes_data['Date'])\n",
    "crimes_data[\"Day\"] = crimes_data['Date'].dt.day_name()\n",
    "crimes_data[\"Month Day\"] =crimes_data['Date'].dt.day\n",
    "crimes_data[\"Month\"] = crimes_data['Date'].dt.month_name()\n",
    "crimes_data[\"Year\"] = crimes_data['Date'].dt.year\n",
    "crimes_data[\"Time\"] =crimes_data['Date'].dt.time\n",
    "crimes_data[\"AM_PM\"] = pd.to_datetime(crimes_data['Date']).dt.strftime(\"%p\")\n",
    "\n",
    "crimes_data"
   ]
  },
  {
   "cell_type": "code",
   "execution_count": null,
   "id": "1bc5c71b",
   "metadata": {},
   "outputs": [],
   "source": [
    "#total of crimes per year \n",
    "sns.countplot(x='Year',data=crimes_data)\n",
    "plt.ylabel('No of Crimes')\n",
    "plt.show()"
   ]
  },
  {
   "cell_type": "code",
   "execution_count": null,
   "id": "9e3a6c83",
   "metadata": {},
   "outputs": [],
   "source": [
    "#total of crimes per district name from 2019 to 2021\n",
    "temp=crimes_data.groupby('District_name')['ID'].count().sort_values(ascending=False)\n",
    "temp=temp[:15]\n",
    "temp"
   ]
  },
  {
   "cell_type": "code",
   "execution_count": null,
   "id": "fbc5005d",
   "metadata": {},
   "outputs": [],
   "source": [
    "#Graphic describing the total of crimes per district from 2019 to 2021\n",
    "temp.plot(kind='bar',color='green')\n",
    "plt.ylabel('No of Crimes')\n",
    "plt.show()"
   ]
  },
  {
   "cell_type": "code",
   "execution_count": null,
   "id": "ba064e76",
   "metadata": {},
   "outputs": [],
   "source": [
    "#Total of crime in 2019 per district \n",
    "grouped_district_df = crimes_data.loc[crimes_data['Year']==2019].groupby([\"District_name\"])\n",
    "\n",
    "totalpopulation = grouped_district_df[\"District_population\"].first()\n",
    "\n",
    "totalcrimes2019 = grouped_district_df[\"ID\"].count()\n",
    "\n",
    "district_summary_df = pd.DataFrame({\"District Population\": totalpopulation,\n",
    "                                   \"Total Crimes 2019\":totalcrimes2019})\n",
    "                                   \n",
    "district_summary_df[[\"District Population\", \n",
    "                     \"Total Crimes 2019\"]]\n"
   ]
  },
  {
   "cell_type": "code",
   "execution_count": null,
   "id": "c593615e",
   "metadata": {},
   "outputs": [],
   "source": [
    "#Total of crime in 2020 per district \n",
    "grouped_district_df = crimes_data.loc[crimes_data['Year']==2020].groupby([\"District_name\"])\n",
    "\n",
    "totalpopulation = grouped_district_df[\"District_population\"].first()\n",
    "\n",
    "totalcrimes2020 = grouped_district_df[\"ID\"].count()\n",
    "\n",
    "district_summary_df = pd.DataFrame({\"District Population\": totalpopulation,\n",
    "                                   \"Total Crimes 2020\":totalcrimes2020})\n",
    "                                   \n",
    "district_summary_df[[\"District Population\", \n",
    "                     \"Total Crimes 2020\"]]"
   ]
  },
  {
   "cell_type": "code",
   "execution_count": null,
   "id": "c50bbf89",
   "metadata": {},
   "outputs": [],
   "source": [
    "#Total of crime in 2021 per district \n",
    "grouped_district_df = crimes_data.loc[crimes_data['Year']==2021].groupby([\"District_name\"])\n",
    "\n",
    "totalpopulation = grouped_district_df[\"District_population\"].first()\n",
    "\n",
    "totalcrimes2021 = grouped_district_df[\"ID\"].count()\n",
    "\n",
    "\n",
    "\n",
    "district_summary_df = pd.DataFrame({\"District Population\": totalpopulation,\n",
    "                                   \"Total Crimes 2021\":totalcrimes2021})\n",
    "                                   \n",
    "district_summary_df[[\"District Population\", \n",
    "                     \"Total Crimes 2021\"]]"
   ]
  },
  {
   "cell_type": "code",
   "execution_count": null,
   "id": "6ac21f10",
   "metadata": {},
   "outputs": [],
   "source": [
    "#Merged the total of crimes per year per district \n"
   ]
  },
  {
   "cell_type": "code",
   "execution_count": null,
   "id": "9d9cb6ea",
   "metadata": {},
   "outputs": [],
   "source": [
    "#Graphic describing the crimes per district by year \n",
    "crimes_data.groupby(['District_name','Year'])['ID'].count().unstack().plot(kind='bar')\n",
    "plt.ylabel('No of crimes')\n",
    "plt.show()"
   ]
  }
 ],
 "metadata": {
  "kernelspec": {
   "display_name": "Python [conda env:PythonData38] *",
   "language": "python",
   "name": "conda-env-PythonData38-py"
  },
  "language_info": {
   "codemirror_mode": {
    "name": "ipython",
    "version": 3
   },
   "file_extension": ".py",
   "mimetype": "text/x-python",
   "name": "python",
   "nbconvert_exporter": "python",
   "pygments_lexer": "ipython3",
   "version": "3.8.12"
  }
 },
 "nbformat": 4,
 "nbformat_minor": 5
}
