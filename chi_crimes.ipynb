{
 "cells": [
  {
   "cell_type": "code",
   "execution_count": null,
   "metadata": {},
   "outputs": [],
   "source": [
    "# Dependencies and Setup\n",
    "import matplotlib.pyplot as plt\n",
    "import pandas as pd\n",
    "import numpy as np\n",
    "import requests\n",
    "import time\n",
    "from scipy.stats import linregress\n",
    "import json\n",
    "from datetime import datetime\n",
    "\n",
    "# importing csv files.\n",
    "crimes_19 = pd.read_csv('input_data/Chicago_Crimes_2019.csv')\n",
    "crimes_20 = pd.read_csv('input_data/Chicago_Crimes_2020.csv')\n",
    "crimes_21 = pd.read_csv('input_data/Chicago_Crimes_2021.csv')\n",
    "\n",
    "# merging crimes data for the last 3 years into a signle dataframe\n",
    "crimes_data = pd.merge((pd.merge(crimes_19,crimes_20, how=\"outer\")),crimes_21,how=\"outer\")\n",
    "\n",
    "print(len(crimes_data))\n"
   ]
  },
  {
   "cell_type": "code",
   "execution_count": null,
   "metadata": {
    "scrolled": true
   },
   "outputs": [],
   "source": [
    "# converting Date column in dataframe to date format and adding columns for month, year, day, time\n",
    "crimes_data[\"Date\"] = pd.to_datetime(crimes_data['Date'])\n",
    "crimes_data[\"Day\"] = crimes_data['Date'].dt.day_name()\n",
    "crimes_data[\"Month Day\"] =crimes_data['Date'].dt.day\n",
    "crimes_data[\"Month\"] = crimes_data['Date'].dt.month_name()\n",
    "crimes_data[\"Year\"] = crimes_data['Date'].dt.year\n",
    "crimes_data[\"Time\"] =crimes_data['Date'].dt.time\n",
    "crimes_data[\"AM_PM\"] = pd.to_datetime(crimes_data['Date']).dt.strftime(\"%p\")\n",
    "print(crimes_data.shape)\n",
    "crimes_data.dropna(how = 'any', inplace = True)\n",
    "print(crimes_data.shape)\n",
    "crimes_data"
   ]
  },
  {
   "cell_type": "code",
   "execution_count": null,
   "metadata": {
    "scrolled": true
   },
   "outputs": [],
   "source": [
    "# list all the columns titles\n",
    "crimes_data.columns"
   ]
  },
  {
   "cell_type": "code",
   "execution_count": null,
   "metadata": {
    "scrolled": true
   },
   "outputs": [],
   "source": [
    "# separate data for each year resulted into arrest \n",
    "arrest19_df  = pd.DataFrame(crimes_data[(crimes_data[\"Year\"]==2019) & (crimes_data[\"Arrest\"]== True)])\n",
    "arrest20_df  = pd.DataFrame(crimes_data[(crimes_data[\"Year\"]==2020) & (crimes_data[\"Arrest\"]== True)])\n",
    "arrest21_df  = pd.DataFrame(crimes_data[(crimes_data[\"Year\"]==2021) & (crimes_data[\"Arrest\"]== True)])\n",
    "\n",
    "arrest19_df.head()"
   ]
  },
  {
   "cell_type": "code",
   "execution_count": null,
   "metadata": {
    "scrolled": true
   },
   "outputs": [],
   "source": [
    "# calculating total arrests in each year\n",
    "total_arrest_19 = len(arrest19_df[\"ID\"])\n",
    "total_arrest_20 = len(arrest20_df[\"ID\"])\n",
    "total_arrest_21 = len(arrest21_df[\"ID\"])\n",
    "total_crimes_19 = len(crimes_data[crimes_data[\"Year\"]==2019][\"ID\"])\n",
    "total_crimes_20 = len(crimes_data[crimes_data[\"Year\"]==2020][\"ID\"])\n",
    "total_crimes_21 = len(crimes_data[crimes_data[\"Year\"]==2021][\"ID\"])\n",
    "print(f\" 019 Arrest = {total_arrest_19}, 020 Arrest = {total_arrest_20}, 021 Arrest = {total_arrest_21}\")\n",
    "print(f\" 019 crime = {total_crimes_19}, 020 crime = {total_crimes_20}, 021 crime = {total_crimes_21}\")\n",
    "\n"
   ]
  },
  {
   "cell_type": "code",
   "execution_count": null,
   "metadata": {
    "scrolled": true
   },
   "outputs": [],
   "source": [
    "# Creating Bar plot for total crimes and arrests\n",
    "\n",
    "Arrests = [total_arrest_19,total_arrest_20,total_arrest_21]\n",
    "Total_crimes = [total_crimes_19,total_crimes_20,total_crimes_21]\n",
    "\n",
    "labels = [\"2019\", \"2020\", \"2021\"]\n",
    "x = np.arange(len(labels))\n",
    "\n",
    "width = 0.3  #width of bar plot\n",
    "fig, ax = plt.subplots()\n",
    "rects1 = ax.bar(x - width/2, Arrests, width, label='Total Arrests')\n",
    "rects2 = ax.bar(x + width/2, Total_crimes, width, label='Total Crimes')\n",
    "\n",
    "#Add some text for labels, title and custom x-axis tick labels, etc.\n",
    "ax.set_ylabel('Crimes')\n",
    "ax.set_title('Crimes in Chicago')\n",
    "ax.set_xticks(x, labels)\n",
    "ax.legend()\n",
    "\n",
    "ax.bar_label(rects1, padding=3)\n",
    "ax.bar_label(rects2, padding=3)\n",
    "\n",
    "fig.tight_layout()\n",
    "plt.savefig(\"Images/chicago_crime_arrest.png\")\n",
    "plt.show()\n"
   ]
  },
  {
   "cell_type": "code",
   "execution_count": null,
   "metadata": {
    "scrolled": true
   },
   "outputs": [],
   "source": [
    "#Calculating Percentage arrest in each year\n",
    "p_arrest2019 = 100*(total_arrest_19/total_crimes_19)\n",
    "p_arrest2020 = 100*(total_arrest_20/total_crimes_20)\n",
    "p_arrest2021 = 100*(total_arrest_21/total_crimes_21)\n",
    "\n",
    "labels = [2019, 2020, 2021]\n",
    "y = [p_arrest2019,p_arrest2020,p_arrest2021]\n",
    "\n",
    "x = np.arange(len(labels))\n",
    "fig, ax = plt.subplots()\n",
    "width = 0.3\n",
    "plot1 = ax.bar(x,y, width = 0.4, color = 'r')\n",
    "ax.set_ylabel(\"% Arrest\")\n",
    "ax.set_title('Percentage arrest in Chicago')\n",
    "ax.set_xticks(x, labels)\n",
    "ax.bar_label(plot1)\n",
    "plt.savefig(\"Images/Percentage_arrests.png\")"
   ]
  },
  {
   "cell_type": "code",
   "execution_count": null,
   "metadata": {},
   "outputs": [],
   "source": [
    "# Domestic vs non domestic\n",
    "\n",
    "domestic_crimes_no = len(crimes_data[crimes_data[\"Domestic\"] == True][\"ID\"])\n",
    "total_crimes_no = len(crimes_data[\"ID\"])\n",
    "non_domestic = total_crimes_no - domestic_crimes_no\n"
   ]
  },
  {
   "cell_type": "code",
   "execution_count": null,
   "metadata": {},
   "outputs": [],
   "source": [
    "#Pi plot to show share of domestic crimes to total crimes\n",
    "\n",
    "labels = [\"Domestic\", \"Non-domestic\"]\n",
    "sizes = [domestic_crimes_no, non_domestic ]\n",
    "\n",
    "fig, ax = plt.subplots()\n",
    "ax.pie(sizes, labels = labels, autopct='%1.1f%%')\n",
    "plt.savefig(\"Images/Pie_Domestic_vs_nonDomestic.png\")"
   ]
  }
 ],
 "metadata": {
  "kernelspec": {
   "display_name": "Python 3",
   "language": "python",
   "name": "python3"
  },
  "language_info": {
   "codemirror_mode": {
    "name": "ipython",
    "version": 3
   },
   "file_extension": ".py",
   "mimetype": "text/x-python",
   "name": "python",
   "nbconvert_exporter": "python",
   "pygments_lexer": "ipython3",
   "version": "3.8.5"
  }
 },
 "nbformat": 4,
 "nbformat_minor": 5
}
