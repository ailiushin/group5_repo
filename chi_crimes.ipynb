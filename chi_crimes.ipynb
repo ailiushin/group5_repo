{
 "cells": [
  {
   "cell_type": "code",
   "execution_count": null,
   "id": "6b16af74",
   "metadata": {},
   "outputs": [],
   "source": [
    "# Dependencies and Setup\n",
    "import matplotlib.pyplot as plt\n",
    "import pandas as pd\n",
    "import numpy as np\n",
    "import requests\n",
    "import time\n",
    "from scipy.stats import linregress\n",
    "import json\n",
    "from datetime import datetime\n",
    "import requests\n",
    "import gmaps\n",
    "import os\n",
    "\n",
    "# Import API key\n",
    "from api_keys import g_key\n",
    "\n",
    "# importing csv files.\n",
    "crimes_19 = pd.read_csv('input_data/Chicago_Crimes_2019.csv')\n",
    "crimes_20 = pd.read_csv('input_data/Chicago_Crimes_2020.csv')\n",
    "crimes_21 = pd.read_csv('input_data/Chicago_Crimes_2021.csv')\n",
    "\n",
    "# merging crimes data for the last 3 years into a signle dataframe\n",
    "crimes_data = pd.merge((pd.merge(crimes_19,crimes_20, how=\"outer\")),crimes_21,how=\"outer\")\n",
    "\n",
    "print(len(crimes_data))\n"
   ]
  },
  {
   "cell_type": "code",
   "execution_count": null,
   "id": "c0e5d518",
   "metadata": {
    "scrolled": true
   },
   "outputs": [],
   "source": [
    "# converting Date column in dataframe to date format and adding columns for month, year, day, time\n",
    "crimes_data[\"Date\"] = pd.to_datetime(crimes_data['Date'])\n",
    "crimes_data[\"Day\"] = crimes_data['Date'].dt.day_name()\n",
    "crimes_data[\"Month Day\"] =crimes_data['Date'].dt.day\n",
    "crimes_data[\"Month\"] = crimes_data['Date'].dt.month_name()\n",
    "crimes_data[\"Year\"] = crimes_data['Date'].dt.year\n",
    "crimes_data[\"Time\"] =crimes_data['Date'].dt.time\n",
    "crimes_data[\"Hour\"] =crimes_data['Date'].dt.strftime('%H').add(':00')\n",
    "crimes_data[\"AM_PM\"] = crimes_data['Date'].dt.strftime(\"%p\")\n",
    "\n",
    "#print the number of columns and number of rows \n",
    "print(crimes_data.shape)\n",
    "\n",
    "# clense the dataframe by removing rows that have NaN values in any of the columns\n",
    "crimes_data.dropna(how = 'any', inplace = True)\n",
    "\n",
    "#print the number of columns and number of rows after clensing the data\n",
    "print(crimes_data.shape)\n",
    "\n",
    "# #temporarily reducing the size of the datafram to run it quicker\n",
    "# crimes_data = crimes_data.head(10000)\n",
    "crimes_data"
   ]
  },
  {
   "cell_type": "code",
   "execution_count": null,
   "id": "06a495e1",
   "metadata": {
    "scrolled": true
   },
   "outputs": [],
   "source": [
    "# list all the columns titles\n",
    "crimes_data.columns"
   ]
  },
  {
   "cell_type": "code",
   "execution_count": null,
   "id": "1228f045",
   "metadata": {
    "scrolled": true
   },
   "outputs": [],
   "source": [
    "# separate data for each year resulted into arrest \n",
    "arrest19_df  = pd.DataFrame(crimes_data[(crimes_data[\"Year\"]==2019) & (crimes_data[\"Arrest\"]== True)])\n",
    "arrest20_df  = pd.DataFrame(crimes_data[(crimes_data[\"Year\"]==2020) & (crimes_data[\"Arrest\"]== True)])\n",
    "arrest21_df  = pd.DataFrame(crimes_data[(crimes_data[\"Year\"]==2021) & (crimes_data[\"Arrest\"]== True)])\n",
    "\n",
    "arrest19_df.head()"
   ]
  },
  {
   "cell_type": "code",
   "execution_count": null,
   "id": "4cae4726",
   "metadata": {
    "scrolled": true
   },
   "outputs": [],
   "source": [
    "# calculating total arrests in each year\n",
    "total_arrest_19 = len(arrest19_df[\"ID\"])\n",
    "total_arrest_20 = len(arrest20_df[\"ID\"])\n",
    "total_arrest_21 = len(arrest21_df[\"ID\"])\n",
    "total_crimes_19 = len(crimes_data[crimes_data[\"Year\"]==2019][\"ID\"])\n",
    "total_crimes_20 = len(crimes_data[crimes_data[\"Year\"]==2020][\"ID\"])\n",
    "total_crimes_21 = len(crimes_data[crimes_data[\"Year\"]==2021][\"ID\"])\n",
    "print(f\" 019 Arrest = {total_arrest_19}, 020 Arrest = {total_arrest_20}, 021 Arrest = {total_arrest_21}\")\n",
    "print(f\" 019 crime = {total_crimes_19}, 020 crime = {total_crimes_20}, 021 crime = {total_crimes_21}\")\n",
    "\n"
   ]
  },
  {
   "cell_type": "code",
   "execution_count": null,
   "id": "c3df514c",
   "metadata": {
    "scrolled": true
   },
   "outputs": [],
   "source": [
    "# Creating Bar plot for total crimes and arrests\n",
    "\n",
    "Arrests = [total_arrest_19,total_arrest_20,total_arrest_21]\n",
    "Total_crimes = [total_crimes_19,total_crimes_20,total_crimes_21]\n",
    "\n",
    "labels = [\"2019\", \"2020\", \"2021\"]\n",
    "x = np.arange(len(labels))\n",
    "\n",
    "width = 0.3  #width of bar plot\n",
    "fig, ax = plt.subplots()\n",
    "rects1 = ax.bar(x - width/2, Arrests, width, label='Total Arrests')\n",
    "rects2 = ax.bar(x + width/2, Total_crimes, width, label='Total Crimes')\n",
    "\n",
    "#Add some text for labels, title and custom x-axis tick labels, etc.\n",
    "ax.set_ylabel('Crimes')\n",
    "ax.set_title('Crimes in Chicago')\n",
    "ax.set_xticks(x, labels)\n",
    "ax.legend()\n",
    "\n",
    "ax.bar_label(rects1, padding=3)\n",
    "ax.bar_label(rects2, padding=3)\n",
    "\n",
    "fig.tight_layout()\n",
    "plt.savefig(\"Images/chicago_crime_arrest.png\")\n",
    "plt.show()\n"
   ]
  },
  {
   "cell_type": "code",
   "execution_count": null,
   "id": "92a66561",
   "metadata": {},
   "outputs": [],
   "source": [
    "# preparing the data to visualize time of the day when crime occurs\n",
    "time_analysis = crimes_data[[\"ID\", 'Hour']].groupby('Hour')['ID'].count()\n",
    "\n",
    "#converting the series and then back to dataframe. Also converting midnight time to 24:00, then sorting the data.\n",
    "time_analysis = time_analysis.to_frame().reset_index()\n",
    "time_analysis = time_analysis.replace(to_replace =[\"00:00\"], \n",
    "                            value =\"24:00\").sort_values(by=['Hour']).reset_index(drop=True)\n",
    "\n",
    "# plotting the line graph\n",
    "time_analysis.plot(kind=\"line\", x=\"Hour\", y=\"ID\", xlabel=\"Time of the day in military format\", \n",
    "                  ylabel =\"Total Number of Crimes\",label='Crimes Committed')\n",
    "# adding title\n",
    "plt.title('Crimes per Time of the Day (3 years)')\n",
    "plt.xticks(np.arange(1,25),np.arange(1,25))\n",
    "plt.show()\n",
    "\n",
    "## need to figure out how to display all values for hours"
   ]
  },
  {
   "cell_type": "code",
   "execution_count": null,
   "id": "b43bcae2",
   "metadata": {},
   "outputs": [],
   "source": [
    "#lotting locations of crimes for the last 3 years.... Maybe sort on loop area and something else and do compare? \n",
    "# still work in progress... if I just map it then the area  is huge and doesn't give much value\n",
    "\n",
    "#sorting the dataframe by MOTOR VEHICLE THEFT\n",
    "vehicle_theft = crimes_data[(crimes_data[\"Primary Type\"]==\"HOMICIDE\") & (crimes_data[\"Year\"]==2021)]\n",
    "                 \n",
    "# Convert crime description to a list\n",
    "crime_desc = vehicle_theft[\"Description\"].tolist()\n",
    "\n",
    "# Configure gmaps\n",
    "gmaps.configure(api_key=g_key)\n",
    "\n",
    "# group lats and lngs for each city location\n",
    "marker_locations = vehicle_theft[[\"Latitude\",\"Longitude\"]]\n",
    "\n",
    "# Create a marker_layer using the poverty list to fill the info box\n",
    "fig = gmaps.figure()\n",
    "markers = gmaps.marker_layer(marker_locations,\n",
    "    info_box_content=[f\"Crime Description: {desc}\" for desc in crime_desc])\n",
    "fig.add_layer(markers)\n",
    "fig"
   ]
  },
  {
   "cell_type": "code",
   "execution_count": null,
   "id": "7b8e8466",
   "metadata": {},
   "outputs": [],
   "source": []
  }
 ],
 "metadata": {
  "kernelspec": {
   "display_name": "Python [conda env:PythonData38]",
   "language": "python",
   "name": "conda-env-PythonData38-py"
  },
  "language_info": {
   "codemirror_mode": {
    "name": "ipython",
    "version": 3
   },
   "file_extension": ".py",
   "mimetype": "text/x-python",
   "name": "python",
   "nbconvert_exporter": "python",
   "pygments_lexer": "ipython3",
   "version": "3.8.12"
  }
 },
 "nbformat": 4,
 "nbformat_minor": 5
}
