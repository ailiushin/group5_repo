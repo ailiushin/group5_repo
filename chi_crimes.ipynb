{
 "cells": [
  {
   "cell_type": "code",
   "execution_count": 1,
   "id": "5033443c",
   "metadata": {},
   "outputs": [
    {
     "name": "stdout",
     "output_type": "stream",
     "text": [
      "679438\n"
     ]
    }
   ],
   "source": [
    "# Dependencies and Setup\n",
    "import matplotlib.pyplot as plt\n",
    "import pandas as pd\n",
    "import numpy as np\n",
    "import requests\n",
    "import time\n",
    "from scipy.stats import linregress\n",
    "import json\n",
    "from datetime import datetime\n",
    "\n",
    "# importing csv files.\n",
    "crimes_19 = pd.read_csv('input_data/Chicago_Crimes_2019.csv')\n",
    "crimes_20 = pd.read_csv('input_data/Chicago_Crimes_2020.csv')\n",
    "crimes_21 = pd.read_csv('input_data/Chicago_Crimes_2021.csv')\n",
    "\n",
    "# merging crimes data for the last 3 years into a signle dataframe\n",
    "crimes_data = pd.merge((pd.merge(crimes_19,crimes_20, how=\"outer\")),crimes_21,how=\"outer\")\n",
    "\n",
    "print(len(crimes_data))"
   ]
  },
  {
   "cell_type": "code",
   "execution_count": 12,
   "id": "c42ea233",
   "metadata": {},
   "outputs": [
    {
     "name": "stdout",
     "output_type": "stream",
     "text": [
      "(679438, 29)\n",
      "(667920, 29)\n"
     ]
    }
   ],
   "source": [
    "# converting Date column in dataframe to date format and adding columns for month, year, day, time\n",
    "crimes_data[\"Date\"] = pd.to_datetime(crimes_data['Date'])\n",
    "crimes_data[\"Day\"] = crimes_data['Date'].dt.day_name()\n",
    "crimes_data[\"Month Day\"] =crimes_data['Date'].dt.day\n",
    "crimes_data[\"Month\"] = crimes_data['Date'].dt.month_name()\n",
    "crimes_data[\"Year\"] = crimes_data['Date'].dt.year\n",
    "crimes_data[\"Time\"] =crimes_data['Date'].dt.time\n",
    "crimes_data[\"AM_PM\"] = pd.to_datetime(crimes_data['Date']).dt.strftime(\"%p\")\n",
    "print(crimes_data.shape)\n",
    "crimes_data.dropna(how = 'any', inplace = True)\n",
    "print(crimes_data.shape)\n",
    "#crimes_data"
   ]
  },
  {
   "cell_type": "code",
   "execution_count": 6,
   "id": "7981c0bc",
   "metadata": {},
   "outputs": [
    {
     "data": {
      "text/plain": [
       "Index(['ID', 'Case Number', 'Date', 'Block', 'IUCR', 'Primary Type',\n",
       "       'Description', 'Location Description', 'Arrest', 'Domestic', 'Beat',\n",
       "       'District', 'District_name', 'District_population', 'Ward',\n",
       "       'Community Area', 'FBI Code', 'X Coordinate', 'Y Coordinate',\n",
       "       'Updated On', 'Latitude', 'Longitude', 'Location', 'Day', 'Month Day',\n",
       "       'Month', 'Year', 'Time', 'AM_PM'],\n",
       "      dtype='object')"
      ]
     },
     "execution_count": 6,
     "metadata": {},
     "output_type": "execute_result"
    }
   ],
   "source": [
    "crimes_data.columns"
   ]
  }
 ],
 "metadata": {
  "kernelspec": {
   "display_name": "Python 3 (ipykernel)",
   "language": "python",
   "name": "python3"
  },
  "language_info": {
   "codemirror_mode": {
    "name": "ipython",
    "version": 3
   },
   "file_extension": ".py",
   "mimetype": "text/x-python",
   "name": "python",
   "nbconvert_exporter": "python",
   "pygments_lexer": "ipython3",
   "version": "3.9.7"
  }
 },
 "nbformat": 4,
 "nbformat_minor": 5
}
