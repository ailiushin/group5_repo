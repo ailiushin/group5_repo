{
 "cells": [
  {
   "cell_type": "code",
   "execution_count": null,
   "id": "953ed580",
   "metadata": {},
   "outputs": [],
   "source": [
    "# Dependencies and Setup\n",
    "import matplotlib.pyplot as plt\n",
    "import pandas as pd\n",
    "import numpy as np\n",
    "import requests\n",
    "import time\n",
    "import scipy.stats as st\n",
    "from scipy.stats import linregress\n",
    "import json\n",
    "from datetime import datetime\n",
    "import requests\n",
    "import gmaps\n",
    "import os\n",
    "import seaborn as sns\n",
    "\n",
    "# Import API key\n",
    "from api_keys import g_key\n",
    "\n",
    "# importing csv files.\n",
    "crimes_19 = pd.read_csv('input_data/Chicago_Crimes_2019.csv')\n",
    "crimes_20 = pd.read_csv('input_data/Chicago_Crimes_2020.csv')\n",
    "crimes_21 = pd.read_csv('input_data/Chicago_Crimes_2021.csv')\n",
    "\n",
    "# merging crimes data for the last 3 years into a signle dataframe\n",
    "crimes_data = pd.merge((pd.merge(crimes_19,crimes_20, how=\"outer\")),crimes_21,how=\"outer\")\n",
    "\n",
    "print(len(crimes_data))\n"
   ]
  },
  {
   "cell_type": "code",
   "execution_count": null,
   "id": "fc47567f",
   "metadata": {
    "scrolled": true
   },
   "outputs": [],
   "source": [
    "# converting Date column in dataframe to date format and adding columns for month, year, day, time\n",
    "crimes_data[\"Date\"] = pd.to_datetime(crimes_data['Date'])\n",
    "crimes_data[\"Day\"] = crimes_data['Date'].dt.day_name()\n",
    "crimes_data[\"Month Day\"] =crimes_data['Date'].dt.day\n",
    "crimes_data[\"Month\"] = crimes_data['Date'].dt.month_name()\n",
    "crimes_data[\"Year\"] = crimes_data['Date'].dt.year\n",
    "crimes_data[\"Time\"] =crimes_data['Date'].dt.time\n",
    "crimes_data[\"Hour\"] =crimes_data['Date'].dt.strftime('%H').add(':00')\n",
    "crimes_data[\"AM_PM\"] = crimes_data['Date'].dt.strftime(\"%p\")\n",
    "\n",
    "#print the number of columns and number of rows \n",
    "print(crimes_data.shape)\n",
    "\n",
    "# clense the dataframe by removing rows that have NaN values in any of the columns\n",
    "crimes_data.dropna(how = 'any', inplace = True)\n",
    "\n",
    "#print the number of columns and number of rows after clensing the data\n",
    "print(crimes_data.shape)\n",
    "\n",
    "# #temporarily reducing the size of the datafram to run it quicker\n",
    "# crimes_data = crimes_data.head(10000)\n",
    "\n",
    "crimes_data"
   ]
  },
  {
   "cell_type": "code",
   "execution_count": null,
   "id": "41941a05",
   "metadata": {
    "scrolled": true
   },
   "outputs": [],
   "source": [
    "# list all the columns titles\n",
    "crimes_data.columns"
   ]
  },
  {
   "cell_type": "markdown",
   "id": "030ec068",
   "metadata": {},
   "source": [
    "## Section I"
   ]
  },
  {
   "cell_type": "markdown",
   "id": "7f7a68e9",
   "metadata": {},
   "source": [
    "In this section we analyzed the types of crimes committed. We analyzed which crimes were most commonly committed and which crimes were least commonly committed. We analyzed what the trend of overall crimes committed was from 2019 to 2021"
   ]
  },
  {
   "cell_type": "code",
   "execution_count": null,
   "id": "8f9b7880",
   "metadata": {},
   "outputs": [],
   "source": [
    "#sorting and counting types of crime\n",
    "crime_type_overall = crimes_data.groupby([\"Primary Type\"])\n",
    "overall_crime_type_df = pd.DataFrame(crimes_data[\"Primary Type\"].value_counts())\n",
    "overall_crime_type_df"
   ]
  },
  {
   "cell_type": "code",
   "execution_count": null,
   "id": "de55dde4",
   "metadata": {},
   "outputs": [],
   "source": [
    "#renaming two columns\n",
    "overall_crime_type_df = overall_crime_type_df.rename(\n",
    "    columns={\"Primary Type\": \"Crime Count\"})\n",
    "overall_crime_type_df\n"
   ]
  },
  {
   "cell_type": "code",
   "execution_count": null,
   "id": "887e30c8",
   "metadata": {},
   "outputs": [],
   "source": [
    "#reduce crime count by creating lists for the top ten crimes\n",
    "top_ten_crimes = [\"Theft\",\"Battery\",\"Criminal Damage\",\"Assault\",\"Deceptive Practice\",\"Other Offense\",\"Motor Vehicale Theft\",\"Narcotics\",\"Burglary\",\"Robbery\"]\n",
    "crime_count = [141158,131204,76153,59061,48198,42760,29354,26354,24951,23740]\n",
    "x_axis = np.arange(len(crime_count))"
   ]
  },
  {
   "cell_type": "code",
   "execution_count": null,
   "id": "6325a6df",
   "metadata": {},
   "outputs": [],
   "source": [
    "#Plot the top ten crimes comitted in Chicago \n",
    "plt.bar(x_axis, crime_count, color=\"b\", align=\"center\")\n",
    "tick_locations = [value for value in x_axis]\n",
    "plt.xticks(tick_locations, top_ten_crimes, rotation=\"vertical\")\n",
    "plt.title(\"Top Ten Most Common Crimes over the Past Three Years\")\n",
    "plt.xlabel(\"Crime Categories\")\n",
    "plt.ylabel(\"Number of Criminal Acts Committed\")\n",
    "\n",
    "plt.show()\n",
    "plt.savefig(\"Images/top_crimes_bar.png\") \n",
    "plt.tight_layout()"
   ]
  },
  {
   "cell_type": "code",
   "execution_count": null,
   "id": "95a1570f",
   "metadata": {},
   "outputs": [],
   "source": [
    "#reduce crime count by creating lists for the least ten crimes\n",
    "least_ten_crimes = [\"Concealed Carry License Violation\",\"Intimidation\",\"Kidnapping\",\"Gambling\",\"Obscenity\",\"Human Trafficking\",\"Public Indecency\",\"Other Narcotic Violation\",\"Non-Criminal\",\"Ritualism\"]\n",
    "least_crime_count = [534,441,377,180,156,30,24,14,8,1]\n",
    "x_axis = np.arange(len(least_crime_count))"
   ]
  },
  {
   "cell_type": "code",
   "execution_count": null,
   "id": "91dc02ab",
   "metadata": {},
   "outputs": [],
   "source": [
    "#plot the ten least committed crimes in Chicago\n",
    "plt.bar(x_axis, least_crime_count, color=\"r\", align=\"center\")\n",
    "tick_locations = [value for value in x_axis]\n",
    "plt.xticks(tick_locations, least_ten_crimes, rotation=\"vertical\")\n",
    "plt.title(\"Least Common Crimes over the Past Three Years\")\n",
    "plt.xlabel(\"Crime Categories\")\n",
    "plt.ylabel(\"Number of Criminal Acts Committed\")\n",
    "\n",
    "plt.show()\n",
    " \n",
    "plt.savefig(\"Images/least_crimes_bar.png\") \n",
    "plt.tight_layout()"
   ]
  },
  {
   "cell_type": "code",
   "execution_count": null,
   "id": "b6ccb69e",
   "metadata": {},
   "outputs": [],
   "source": [
    "#Get the total number of crimes committed for the 3 years\n",
    "number_crimes = crimes_data.groupby(\"Year\")\n",
    "yearly_crimes_df = pd.DataFrame(number_crimes[\"ID\"].nunique())\n",
    "yearly_crimes_df"
   ]
  },
  {
   "cell_type": "code",
   "execution_count": null,
   "id": "ee20296e",
   "metadata": {},
   "outputs": [],
   "source": [
    "#renaming the column ID\n",
    "yearly_crimes_df = yearly_crimes_df.rename(\n",
    "    columns={\"ID\": \"Crime Count\"})\n",
    "yearly_crimes_df\n"
   ]
  },
  {
   "cell_type": "code",
   "execution_count": null,
   "id": "835bba26",
   "metadata": {},
   "outputs": [],
   "source": [
    "#Plot total crimes committed each year in Chicago\n",
    "x = [2019,2020,2021]\n",
    "y = [258143,207427,202350]\n",
    "labels = ['2019', '2020', '2021']\n",
    " \n",
    "# Plotting x-axis and y-axis\n",
    "plt.plot(x, y)\n",
    " \n",
    "# naming of x-axis and y-axis\n",
    "plt.xlabel(\"Year\")\n",
    "plt.ylabel(\"Number of Criminal Acts Committed\")\n",
    " \n",
    "# naming the title of the plot\n",
    "plt.title(\"Yearly Reported Crime Totals\")\n",
    " \n",
    "# setting x-axis values\n",
    "plt.xticks(x, labels)\n",
    "plt.savefig(\"Images/yearly_crime_line.png\") \n",
    "plt.show()\n"
   ]
  },
  {
   "cell_type": "code",
   "execution_count": null,
   "id": "1d825262",
   "metadata": {},
   "outputs": [],
   "source": [
    "#using groupby do caluculate totals per different types of crimes\n",
    "crime_type = crimes_data.groupby(\"Year\")\n",
    "\n",
    "crime_type_df = pd.DataFrame(crime_type[\"Primary Type\"].value_counts())\n",
    "\n",
    "crime_type_df\n"
   ]
  },
  {
   "cell_type": "code",
   "execution_count": null,
   "id": "457b9182",
   "metadata": {},
   "outputs": [],
   "source": [
    "#renaming Primary Type column\n",
    "crime_type_df = crime_type_df.rename(\n",
    "    columns={\"Primary Type\": \"Crime Count\"})\n",
    "crime_type_df\n"
   ]
  },
  {
   "cell_type": "code",
   "execution_count": null,
   "id": "629fff7a",
   "metadata": {},
   "outputs": [],
   "source": [
    "#using sum function \n",
    "crime_type_df[\"Crime Count\"].sum()"
   ]
  },
  {
   "cell_type": "code",
   "execution_count": null,
   "id": "18a69bb8",
   "metadata": {},
   "outputs": [],
   "source": [
    "#sorting data fram in ascending order\n",
    "most_common_crimes = crime_type_df.sort_values([\"Crime Count\"],\n",
    "                                           ascending=False)\n",
    "most_common_crimes.head(30)"
   ]
  },
  {
   "cell_type": "markdown",
   "id": "f664ffdd",
   "metadata": {},
   "source": [
    "## Section II"
   ]
  },
  {
   "cell_type": "markdown",
   "id": "53e6d440",
   "metadata": {},
   "source": [
    "# Total number of crimes and Arrests\n",
    "1. Both total number of crimes and the total number of arrests in Chicago seem to be decreased for last three years.\n",
    "2. The arrest percentage has also been decreased for last three years.\n",
    "3. Most of the crimes did not result into arrests. In aggregate, only 17 % crimes resulted in Arrest.\n",
    "4. Between 2020 and 2021, while total crimes did not change substantially, the number of arrests decreased considerably."
   ]
  },
  {
   "cell_type": "code",
   "execution_count": null,
   "id": "c49886fd",
   "metadata": {
    "scrolled": true
   },
   "outputs": [],
   "source": [
    "# separate data for each year  for crimes that resulted into arrest \n",
    "arrest19_df  = pd.DataFrame(crimes_data[(crimes_data[\"Year\"]==2019) & (crimes_data[\"Arrest\"]== True)])\n",
    "arrest20_df  = pd.DataFrame(crimes_data[(crimes_data[\"Year\"]==2020) & (crimes_data[\"Arrest\"]== True)])\n",
    "arrest21_df  = pd.DataFrame(crimes_data[(crimes_data[\"Year\"]==2021) & (crimes_data[\"Arrest\"]== True)])\n",
    "\n",
    "arrest19_df.head()"
   ]
  },
  {
   "cell_type": "code",
   "execution_count": null,
   "id": "31a1d022",
   "metadata": {},
   "outputs": [],
   "source": [
    "# calculating total arrests and total crimes in each year\n",
    "total_arrest_19 = len(arrest19_df[\"ID\"])\n",
    "total_arrest_20 = len(arrest20_df[\"ID\"])\n",
    "total_arrest_21 = len(arrest21_df[\"ID\"])\n",
    "total_crimes_19 = len(crimes_data[crimes_data[\"Year\"]==2019][\"ID\"])\n",
    "total_crimes_20 = len(crimes_data[crimes_data[\"Year\"]==2020][\"ID\"])\n",
    "total_crimes_21 = len(crimes_data[crimes_data[\"Year\"]==2021][\"ID\"])\n",
    "\n",
    "#print number of crimes and arrests each year\n",
    "print(f\" 019 Arrest = {total_arrest_19}, 020 Arrest = {total_arrest_20}, 021 Arrest = {total_arrest_21}\")\n",
    "print(f\" 019 crime = {total_crimes_19}, 020 crime = {total_crimes_20}, 021 crime = {total_crimes_21}\")\n"
   ]
  },
  {
   "cell_type": "code",
   "execution_count": null,
   "id": "b45868da",
   "metadata": {
    "scrolled": true
   },
   "outputs": [],
   "source": [
    "# Creating Bar plot for total crimes and arrests\n",
    "\n",
    "#list total arrests for each year\n",
    "Arrests = [total_arrest_19,total_arrest_20,total_arrest_21]\n",
    "\n",
    "#list total crimes for each year\n",
    "Total_crimes = [total_crimes_19,total_crimes_20,total_crimes_21]\n",
    "\n",
    "#list of labels\n",
    "labels = [\"2019\", \"2020\", \"2021\"]\n",
    "\n",
    "x = np.arange(len(labels))\n",
    "\n",
    "width = 0.3  #width of bar plot\n",
    "fig, ax = plt.subplots()\n",
    "rects1 = ax.bar(x - width/2, Arrests, width, label='Total Arrests')\n",
    "rects2 = ax.bar(x + width/2, Total_crimes, width, label='Total Crimes')\n",
    "\n",
    "#Add some text for labels, title and custom x-axis tick labels, etc.\n",
    "ax.set_ylabel('Crimes')\n",
    "ax.set_title('Crimes in Chicago')\n",
    "ax.set_xticks(x, labels)\n",
    "ax.legend()\n",
    "\n",
    "ax.bar_label(rects1, padding=3)\n",
    "ax.bar_label(rects2, padding=3)\n",
    "\n",
    "fig.tight_layout()\n",
    "plt.savefig(\"Images/chicago_crime_arrest.png\")\n",
    "plt.show()"
   ]
  },
  {
   "cell_type": "code",
   "execution_count": null,
   "id": "0403c69e",
   "metadata": {
    "scrolled": true
   },
   "outputs": [],
   "source": [
    "# Creating Bar plot for total crimes and arrests\n",
    "\n",
    "#define lists of variable values for bar plot\n",
    "Arrests = [total_arrest_19,total_arrest_20,total_arrest_21]\n",
    "Total_crimes = [total_crimes_19,total_crimes_20,total_crimes_21]\n",
    "\n",
    "labels = [\"2019\", \"2020\", \"2021\"]\n",
    "x = np.arange(len(labels))\n",
    "\n",
    "width = 0.3  #width of bar plot\n",
    "fig, ax = plt.subplots()\n",
    "rects1 = ax.bar(x - width/2, Arrests, width, label='Total Arrests')\n",
    "rects2 = ax.bar(x + width/2, Total_crimes, width, label='Total Crimes')\n",
    "\n",
    "#Add some text for labels, title and custom x-axis tick labels, etc.\n",
    "ax.set_ylabel('Crimes')\n",
    "ax.set_title('Crimes in Chicago')\n",
    "ax.set_xticks(x, labels)\n",
    "ax.legend()\n",
    "\n",
    "ax.bar_label(rects1, padding=3)\n",
    "ax.bar_label(rects2, padding=3)\n",
    "\n",
    "fig.tight_layout()\n",
    "plt.savefig(\"Images/chicago_crime_arrest.png\")\n",
    "plt.show()\n"
   ]
  },
  {
   "cell_type": "code",
   "execution_count": null,
   "id": "5a980b21",
   "metadata": {},
   "outputs": [],
   "source": [
    "#Calculating Percentage arrest in each year\n",
    "p_arrest2019 = 100*(total_arrest_19/total_crimes_19)\n",
    "p_arrest2020 = 100*(total_arrest_20/total_crimes_20)\n",
    "p_arrest2021 = 100*(total_arrest_21/total_crimes_21)\n",
    "\n",
    "# calculating total percentage arrests in last three years\n",
    "total_arrests = total_arrest_19 + total_arrest_20 + total_arrest_21  \n",
    "total_crimes = total_crimes_19 + total_crimes_20 + total_crimes_20 # need to correct this in main\n",
    "p_total_arrest = 100*(total_arrests/total_crimes)\n",
    "\n",
    "#define labels list\n",
    "labels = [2019, 2020, 2021, \"Aggregate\"]\n",
    "\n",
    "#define list for variables values for bar plot\n",
    "y = [p_arrest2019,p_arrest2020,p_arrest2021, p_total_arrest]\n",
    "\n",
    "x = np.arange(len(labels))\n",
    "fig, ax = plt.subplots()\n",
    "width = 0.3\n",
    "plot1 = ax.bar(x,y, width = 0.4, color = 'r')\n",
    "ax.set_ylabel(\"% Arrest\")\n",
    "ax.set_title('Percentage arrest in Chicago')\n",
    "ax.set_xticks(x, labels)\n",
    "ax.bar_label(plot1)\n",
    "plt.savefig(\"Images/Percentage_arrests.png\")"
   ]
  },
  {
   "cell_type": "code",
   "execution_count": null,
   "id": "f5203eb5",
   "metadata": {},
   "outputs": [],
   "source": [
    "# Domestic vs non domestic\n",
    "#calculating total crimes that are domestic\n",
    "\n",
    "#number of domestic crimes\n",
    "domestic_crimes_no = len(crimes_data[crimes_data[\"Domestic\"] == True][\"ID\"])\n",
    "\n",
    "#no of total crimes\n",
    "total_crimes_no = len(crimes_data[\"ID\"])\n",
    "\n",
    "#number of non-domestic crimes\n",
    "non_domestic = total_crimes_no - domestic_crimes_no"
   ]
  },
  {
   "cell_type": "code",
   "execution_count": null,
   "id": "36d17225",
   "metadata": {
    "scrolled": true
   },
   "outputs": [],
   "source": [
    "#Pi plot to show share of domestic crimes to total crimes\n",
    "\n",
    "labels = [\"Domestic\", \"Non-domestic\"]\n",
    "sizes = [domestic_crimes_no, non_domestic ]\n",
    "\n",
    "fig, ax = plt.subplots()\n",
    "ax.pie(sizes, labels = labels, autopct='%1.1f%%')\n",
    "plt.savefig(\"Images/Pie_Domestic_vs_nonDomestic.png\")"
   ]
  },
  {
   "cell_type": "markdown",
   "id": "b16400ee",
   "metadata": {},
   "source": [
    "## Chi-square test\n",
    "1. Null hypothesis: \"Total number of crimes/arrests in different years are same\"\n",
    "2. Alternate hypothesis: \"Total number of crimes/arrests in different years are not same.\""
   ]
  },
  {
   "cell_type": "code",
   "execution_count": null,
   "id": "7b06b019",
   "metadata": {},
   "outputs": [],
   "source": [
    "# Performing chi-square test for total crimes and arrests for past three years to see if the reduction in crimes and \n",
    "# are significant\n",
    "\n",
    "#Observed values\n",
    "crimes_observed = [total_crimes_19, total_crimes_20, total_crimes_21]\n",
    "arrest_observed = [total_arrest_19-1, total_arrest_20, total_arrest_21] # subtracted 1 to make total arrests divisible by 3.\n",
    "\n",
    "#Expected values\n",
    "# for Null hypothesis: \"The crimes data/arrest data are not significantly different\", the expected values are same each year\n",
    "\n",
    "#Expected crimes each year for null hypothesis are equal to average of three years\n",
    "\n",
    "crimes_total = total_crimes_19 + total_crimes_20 +total_crimes_21  \n",
    "crimes_expected = [crimes_total/3, crimes_total/3, crimes_total/3]\n",
    "\n",
    "#Expected number of arrests in the same way\n",
    "arrest_total = total_arrest_19-1 + total_arrest_20 + total_arrest_21 # subtracted 1 to make it divisible by 3 so that \n",
    "arrest_expected = [arrest_total/3, arrest_total/3, arrest_total/3]\n",
    "\n",
    "#calculate critical value\n",
    "\n",
    "# The degree of freedom is 3-1 = 2\n",
    "# With a p-value of 0.05, the confidence level is 1.00-0.05 = 0.95.\n",
    "critical_value = st.chi2.ppf(q = 0.95, df = 2)\n",
    "critical_value\n",
    "print(f\"total crimes = {crimes_total}, total arrests = {arrest_total}\")\n",
    "# total_crimes/3\n",
    "# arrest_total/3\n",
    "#crimes_expected\n"
   ]
  },
  {
   "cell_type": "code",
   "execution_count": null,
   "id": "314bf916",
   "metadata": {},
   "outputs": [],
   "source": [
    "#Running chi-square test for  'total crimes' \n",
    "\n",
    "chi_square = st.chisquare(crimes_observed, crimes_expected)\n",
    "chi_square\n"
   ]
  },
  {
   "cell_type": "code",
   "execution_count": null,
   "id": "958bffa8",
   "metadata": {
    "scrolled": true
   },
   "outputs": [],
   "source": [
    "#Running chi-square test for \"total arrests\"\n",
    "chi_square = st.chisquare(arrest_observed, arrest_expected)\n",
    "chi_square\n"
   ]
  },
  {
   "cell_type": "markdown",
   "id": "56e533e1",
   "metadata": {},
   "source": [
    "## Chi_square conclusion\n",
    "1. The chi_square values are much larger than the critical value for both number of crimes and number of arrests. So the change in number of crimes and number of arrests are statistically significant."
   ]
  },
  {
   "cell_type": "markdown",
   "id": "29207b1a",
   "metadata": {},
   "source": [
    "## Section III"
   ]
  },
  {
   "cell_type": "markdown",
   "id": "90e83d76",
   "metadata": {},
   "source": [
    "In this section we analyzed what is the least dangerous and the most dangerous hour in Chicago based on the three-year period. Further, we wanted to have a visual representation of homicide and concealed carry violations near Loop & Millenium Park area."
   ]
  },
  {
   "cell_type": "code",
   "execution_count": null,
   "id": "075aa049",
   "metadata": {},
   "outputs": [],
   "source": [
    "# preparing the data to visualize time of the day when crime occurs\n",
    "time_analysis = crimes_data[[\"ID\", 'Hour']].groupby('Hour')['ID'].count()\n",
    "\n",
    "#converting the series and then back to dataframe. Also converting midnight time to 24:00, then sorting the data.\n",
    "time_analysis = time_analysis.to_frame().reset_index()\n",
    "time_analysis = time_analysis.replace(to_replace =[\"00:00\"], \n",
    "                            value =\"24:00\").sort_values(by=['Hour']).reset_index(drop=True)\n",
    "\n",
    "# plotting the bar graph\n",
    "time_analysis.plot(kind='bar', x=\"Hour\", y=\"ID\", xlabel=\"Time of the day in military format\", \n",
    "                  ylabel =\"Total Number of Crimes\",label='Crimes Committed',figsize=(10,10))\n",
    "plt.xticks(rotation=45)\n",
    "# adding title\n",
    "plt.title('Crimes per Time of the Day (3 years)')\n",
    "\n",
    "plt.show()\n"
   ]
  },
  {
   "cell_type": "code",
   "execution_count": null,
   "id": "6552fb78",
   "metadata": {},
   "outputs": [],
   "source": [
    "#plotting locations of the crimes for the last 3 years that involve CONCEALED CARRY LICENSE VIOLATION. \n",
    "#we are interested in the loop area/millennium park area\n",
    "\n",
    "#sorting the dataframe by MOTOR VEHICLE THEFT\n",
    "vehicle_theft = crimes_data[(crimes_data[\"Primary Type\"]==\"CONCEALED CARRY LICENSE VIOLATION\")]\n",
    "                 \n",
    "# Convert crime description to a list\n",
    "crime_desc = vehicle_theft[\"Description\"].tolist()\n",
    "\n",
    "# Configure gmaps\n",
    "gmaps.configure(api_key=g_key)\n",
    "\n",
    "# group lats and lngs for each city location\n",
    "marker_locations = vehicle_theft[[\"Latitude\",\"Longitude\"]]\n",
    "\n",
    "# Create a marker layer using the crime description list to fill the info box\n",
    "fig = gmaps.figure()\n",
    "markers = gmaps.marker_layer(marker_locations,\n",
    "    info_box_content=[f\"Crime Description: {desc}\" for desc in crime_desc])\n",
    "fig.add_layer(markers)\n",
    "fig"
   ]
  },
  {
   "cell_type": "code",
   "execution_count": null,
   "id": "7b938cb5",
   "metadata": {},
   "outputs": [],
   "source": [
    "#plotting locations of the crimes for the last 3 years that involve HOMICIDES. \n",
    "#we are interested in the loop area/millennium park area\n",
    "\n",
    "#sorting the dataframe by MOTOR VEHICLE THEFT\n",
    "vehicle_theft = crimes_data[(crimes_data[\"Primary Type\"]==\"HOMICIDE\")]\n",
    "                 \n",
    "# Convert crime description to a list\n",
    "crime_desc = vehicle_theft[\"Description\"].tolist()\n",
    "\n",
    "# Configure gmaps\n",
    "gmaps.configure(api_key=g_key)\n",
    "\n",
    "# group lats and lngs for each city location\n",
    "marker_locations = vehicle_theft[[\"Latitude\",\"Longitude\"]]\n",
    "\n",
    "# Create a marker layer using the crime description list to fill the info box\n",
    "fig = gmaps.figure()\n",
    "markers = gmaps.marker_layer(marker_locations,\n",
    "    info_box_content=[f\"Crime Description: {desc}\" for desc in crime_desc])\n",
    "fig.add_layer(markers)\n",
    "fig"
   ]
  },
  {
   "cell_type": "markdown",
   "id": "23eec7cd",
   "metadata": {},
   "source": [
    "## Section IV"
   ]
  },
  {
   "cell_type": "markdown",
   "id": "d5799cb3",
   "metadata": {},
   "source": [
    "We analyzed the total number of crimes per district from 2019 to 2021.The rough map of Chicago below makes it possible to visualize how Chicago is divided. The district with more crimes reported during this period was Jefferson Park, in the North Side of Chicago. Comparing the number of crimes in 2019 with 2021 in Jefferson Park district, the crimes decreased 39.9%"
   ]
  },
  {
   "cell_type": "code",
   "execution_count": null,
   "id": "20c1d0b0",
   "metadata": {},
   "outputs": [],
   "source": [
    "#total of crimes per year \n",
    "sns.countplot(x='Year',data=crimes_data)\n",
    "plt.ylabel('No of Crimes')\n",
    "plt.show()"
   ]
  },
  {
   "cell_type": "code",
   "execution_count": null,
   "id": "795cb712",
   "metadata": {},
   "outputs": [],
   "source": [
    "# removing nan values and selecting range for y coordinates\n",
    "cleandata = crimes_data.dropna()\n",
    "df=cleandata[cleandata['Y Coordinate']>=1000000]\n",
    "df"
   ]
  },
  {
   "cell_type": "code",
   "execution_count": null,
   "id": "55ea05fa",
   "metadata": {},
   "outputs": [],
   "source": [
    "#Simulate the map of Chicago with the help of X and Y co-ordinates\n",
    "sns.lmplot(x=\"X Coordinate\",\n",
    "           y=\"Y Coordinate\",\n",
    "           data=df,\n",
    "           fit_reg=False,\n",
    "           hue=\"District_name\",\n",
    "           palette='colorblind',\n",
    "           height=5,\n",
    "           scatter_kws={\"marker\": \"o\",\n",
    "                        \"s\": 10})\n",
    "ax = plt.gca()\n",
    "ax.set_title(\"Map of Chicago\\n\", fontdict={'fontsize': 15}, weight=\"bold\")\n",
    "plt.show()"
   ]
  },
  {
   "cell_type": "code",
   "execution_count": null,
   "id": "a7e99d83",
   "metadata": {},
   "outputs": [],
   "source": [
    "#total of crimes per district name from 2019 to 2021\n",
    "temp=crimes_data.groupby('District_name')['ID'].count().sort_values(ascending=False)\n",
    "temp=temp[:15]\n",
    "temp"
   ]
  },
  {
   "cell_type": "code",
   "execution_count": null,
   "id": "36c850df",
   "metadata": {},
   "outputs": [],
   "source": [
    "#Graphic describing the total of crimes per district from 2019 to 2021\n",
    "temp.plot(kind='bar',color='green')\n",
    "plt.ylabel('No of Crimes')\n",
    "plt.show()"
   ]
  },
  {
   "cell_type": "code",
   "execution_count": null,
   "id": "3ec26ca2",
   "metadata": {},
   "outputs": [],
   "source": [
    "#Total of crime in 2019 per district \n",
    "grouped_district_df = crimes_data.loc[crimes_data['Year']==2019].groupby([\"District_name\"])\n",
    "\n",
    "totalpopulation = grouped_district_df[\"District_population\"].first()\n",
    "\n",
    "totalcrimes2019 = grouped_district_df[\"ID\"].count()\n",
    "\n",
    "district_summary_2019 = pd.DataFrame({\"District Population\": totalpopulation,\n",
    "                                   \"Total Crimes 2019\":totalcrimes2019})\n",
    "                                   \n",
    "district_summary_2019[[\"District Population\", \n",
    "                     \"Total Crimes 2019\"]]\n"
   ]
  },
  {
   "cell_type": "code",
   "execution_count": null,
   "id": "693d1a08",
   "metadata": {},
   "outputs": [],
   "source": [
    "#Total of crime in 2020 per district \n",
    "grouped_district_df = crimes_data.loc[crimes_data['Year']==2020].groupby([\"District_name\"])\n",
    "\n",
    "totalpopulation = grouped_district_df[\"District_population\"].first()\n",
    "\n",
    "totalcrimes2020 = grouped_district_df[\"ID\"].count()\n",
    "\n",
    "district_summary_2020 = pd.DataFrame({\"District Population\": totalpopulation,\n",
    "                                   \"Total Crimes 2020\":totalcrimes2020})\n",
    "                                   \n",
    "district_summary_2020[[\"District Population\", \n",
    "                     \"Total Crimes 2020\"]]"
   ]
  },
  {
   "cell_type": "code",
   "execution_count": null,
   "id": "29728006",
   "metadata": {},
   "outputs": [],
   "source": [
    "#Total of crime in 2021 per district \n",
    "grouped_district_df = crimes_data.loc[crimes_data['Year']==2021].groupby([\"District_name\"])\n",
    "\n",
    "totalpopulation = grouped_district_df[\"District_population\"].first()\n",
    "\n",
    "totalcrimes2021 = grouped_district_df[\"ID\"].count()\n",
    "\n",
    "\n",
    "\n",
    "district_summary_2021 = pd.DataFrame({\"District Population\": totalpopulation,\n",
    "                                   \"Total Crimes 2021\":totalcrimes2021})\n",
    "                                   \n",
    "district_summary_2021[[\"District Population\", \n",
    "                     \"Total Crimes 2021\"]]"
   ]
  },
  {
   "cell_type": "code",
   "execution_count": null,
   "id": "cbbd3c15",
   "metadata": {},
   "outputs": [],
   "source": [
    "#Merged the total of crimes per year per district \n",
    "disctrict_summary_by_year = pd.merge((pd.merge(district_summary_2019[\"Total Crimes 2019\"],\\\n",
    "                                     district_summary_2020[\"Total Crimes 2020\"],\\\n",
    "                                     left_index=True, right_index=True)),district_summary_2021[\"Total Crimes 2021\"],\\\n",
    "                                     left_index=True, right_index=True)\n",
    "\n",
    "disctrict_summary_by_year"
   ]
  },
  {
   "cell_type": "code",
   "execution_count": null,
   "id": "c97c313f",
   "metadata": {},
   "outputs": [],
   "source": [
    "#Graphic describing the crimes per district by year \n",
    "crimes_data.groupby(['District_name','Year'])['ID'].count().unstack().plot(kind='bar')\n",
    "plt.ylabel('No of crimes')\n",
    "plt.show()"
   ]
  },
  {
   "cell_type": "code",
   "execution_count": null,
   "id": "fb040cfd",
   "metadata": {},
   "outputs": [],
   "source": [
    "#location attributes - Type of crimes vs district\n",
    "top = crimes_data.groupby(['District_name','Primary Type']).\\\n",
    "size().reset_index(name='counts').sort_values('counts',ascending=False).groupby('District_name').\\\n",
    "apply(lambda x: x.sort_values('counts',ascending=False).head(5))\n",
    "# factor plot to make multiple plots\n",
    "g =sns.catplot(x='Primary Type', y='counts', col=\"District_name\", col_wrap=3,\n",
    "                   data=top, kind='bar')\n",
    "for ax in g.axes:\n",
    "    ax.tick_params(labelbottom=True, labelrotation=45)\n",
    "plt.subplots_adjust(hspace=0.4)"
   ]
  }
 ],
 "metadata": {
  "kernelspec": {
   "display_name": "Python [conda env:PythonData38] *",
   "language": "python",
   "name": "conda-env-PythonData38-py"
  },
  "language_info": {
   "codemirror_mode": {
    "name": "ipython",
    "version": 3
   },
   "file_extension": ".py",
   "mimetype": "text/x-python",
   "name": "python",
   "nbconvert_exporter": "python",
   "pygments_lexer": "ipython3",
   "version": "3.8.12"
  }
 },
 "nbformat": 4,
 "nbformat_minor": 5
}
